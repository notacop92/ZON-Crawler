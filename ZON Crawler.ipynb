{
 "cells": [
  {
   "cell_type": "code",
   "execution_count": 2,
   "metadata": {},
   "outputs": [],
   "source": [
    "import csv\n",
    "import requests\n",
    "import dateutil.parser\n",
    "from bs4 import BeautifulSoup\n",
    "\n",
    "r = requests.get('https://www.zeit.de/index')\n",
    "\n",
    "doc = BeautifulSoup(r.text, 'html.parser')\n",
    "\n",
    "aa =[]\n",
    "mainpage_articles = doc.find_all(\"a\", {\"class\": \"zon-teaser-standard__combined-link\"})\n",
    "for article in mainpage_articles:\n",
    "    title = article.attrs['title']\n",
    "    url = article.attrs['href']\n",
    "    aa.append([title, url])\n",
    "\n",
    "lst = []\n",
    "for i in aa:\n",
    "    try:\n",
    "        r = requests.get(i[1])\n",
    "        art_html = BeautifulSoup(r.text, 'html.parser')\n",
    "        title = art_html.select_one(\".article-heading__title\").text \n",
    "        summary = art_html.select_one(\".summary\").text.strip()\n",
    "        #author = art_html.select_one(\".byline\").text.strip()\n",
    "        pub = art_html.find(\"time\").attrs[\"datetime\"] if art_html.find(\"time\") is not None else None\n",
    "        #pub = dateutil.parser.parse(pub)\n",
    "        ressort = art_html.select_one(\".nav__ressorts-link--current\").text if art_html.select_one(\".nav__ressorts-link--current\") is not None else None\n",
    "        lst.append({'Title': title,  'Summary': summary, 'Publication': pub, 'Ressort': ressort, 'URL' : i[1]})\n",
    "    except AttributeError:\n",
    "        continue\n",
    "        \n",
    "        \n"
   ]
  },
  {
   "cell_type": "code",
   "execution_count": 10,
   "metadata": {},
   "outputs": [
    {
     "name": "stdout",
     "output_type": "stream",
     "text": [
      "{'Title': 'Arme und Benachteiligte sterben in Großbritannien häufiger', 'Summary': 'Soziale Ungleichheiten werden durch Covid-19 besonders sichtbar, zeigen Studien. Studentenvertreter fordern den Rücktritt von Bildungsministerin Karliczek. Das Newsblog', 'Publication': '2020-05-01T16:55:53+02:00', 'Ressort': 'Wissen', 'URL': 'https://www.zeit.de/wissen/gesundheit/2020-04/coronavirus-aktuell-infektionen-ausbreitung-live'}\n",
      "{'Title': \"Brauch' ich das?\", 'Summary': 'Im Kapitalismus hängt alles am Konsum. Der ist mit der Corona-Pandemie in die Sinnkrise geraten. Hat die Wirtschaft, wie wir sie kennen, ihren Zenit überschritten?', 'Publication': '2020-05-01T11:00:42+02:00', 'Ressort': 'Wirtschaft', 'URL': 'https://www.zeit.de/wirtschaft/2020-05/konsum-kapitalismus-coronavirus-wirtschaftskrise-globalisierung'}\n",
      "{'Title': '\"Es ist niemals, niemals passiert\"', 'Summary': 'Der designierte US-Präsidentschaftskandidat hat die Vorwürfe eines sexuellen Übergriffs zurückgewiesen. Die Angaben einer ehemaligen Mitarbeiterin werde er prüfen lassen.', 'Publication': '2020-05-01T14:57:08+02:00', 'Ressort': 'Politik', 'URL': 'https://www.zeit.de/politik/ausland/2020-05/joe-biden-sexuelle-belaestigung-vorwuerfe-us-demokraten'}\n",
      "{'Title': 'Vorteil Peking: Bringt Corona China die Weltherrschaft?', 'Summary': 'Xi Jinping vs. Donald Trump: Wer hat im Kampf um die globale Führung die besseren Karten – und wo ist da noch Platz für Europa? Darüber diskutiert der Politikpodcast', 'Publication': '2020-05-01T12:53:03+02:00', 'Ressort': 'Politik', 'URL': 'https://www.zeit.de/politik/2020-04/corona-pandemie-weltordnung-china-politikpodcast'}\n",
      "{'Title': '\"Die App wird uns nicht retten\"', 'Summary': 'Ansteckungen per Smartphone nachverfolgen? Klingt sinnvoll, aber wie gut das funktionieren wird, sei noch unklar, sagt der Infektionsforscher Dirk Brockmann.', 'Publication': '2020-05-01T11:46:08+02:00', 'Ressort': 'Digital', 'URL': 'https://www.zeit.de/digital/datenschutz/2020-04/coronavirus-kontaktverfolgung-tracing-app-infektionsketten-lockdown'}\n",
      "{'Title': 'Klamm, klammer, Kommune', 'Summary': 'Linoleum und Luxuswasser – die Corona-Krise stürzt überforderte und überschuldete Kommunen ins Chaos. Doch es gibt Auswege: Gemeinden müssten Hierarchien aufbrechen, professioneller werden und Misswirtschaft radikal unterbinden.', 'Publication': '2020-05-01T12:42:59+02:00', 'Ressort': 'Wirtschaft', 'URL': 'https://www.zeit.de/wirtschaft/2020-05/kommunen-schulden-corona-krise'}\n",
      "{'Title': 'Heiko Maas, wie regiert es sich in Zeiten von Corona?', 'Summary': 'Zurzeit fühlt er sich manchmal wie der \"Chef des einzigen noch offenen Reisebüros\". Dreieinhalb Stunden berichtet der Außenminister über Leben und Arbeiten in der Krise.', 'Publication': '2020-04-21T10:45:27+02:00', 'Ressort': 'Gesellschaft', 'URL': 'https://www.zeit.de/gesellschaft/2020-04/heiko-maas-corona-krise-interviewpodcast-alles-gesagt'}\n",
      "{'Title': 'Veganismus', 'Summary': 'Für das Klima ist eine Ernährung ohne Fleisch, Käse und Eier gut – und für das Wohl der Tiere auch. Aber sind Veganer deshalb die besseren Menschen?', 'Publication': '2020-05-01T16:07:21+02:00', 'Ressort': 'Wissen', 'URL': 'https://www.zeit.de/zeit-wissen/2020/03/vegane-ernaehrung-naehrstoffe-umweltschutz-ideologie'}\n",
      "{'Title': 'Hunderte Menschen demonstrieren in Leipzig', 'Summary': 'Die linken Kundgebungen in Connewitz und der Südvorstadt haben sich am Nachmittag in die Innenstadt verlagert. Auch rechte Demonstranten planten einen Aufmarsch.', 'Publication': '2020-05-01T16:32:56+02:00', 'Ressort': 'Politik', 'URL': 'https://www.zeit.de/politik/deutschland/2020-05/erster-mai-demonstrationen-leipzig-connewitz-tag-der-arbeit'}\n",
      "{'Title': 'Der verstummte Sprecher', 'Summary': 'Neue Details zur Freistellung des AfD-Fraktionssprechers. ZEIT ONLINE konnte die Chats einsehen, über die Christian Lüth stolperte. Darin nennt er sich einen Faschisten.', 'Publication': '2020-05-01T12:26:16+02:00', 'Ressort': 'Politik', 'URL': 'https://www.zeit.de/politik/deutschland/2020-05/christian-lueth-afd-pressesprecher-freistellung-faschismus'}\n",
      "{'Title': 'Europaweite Fahndung nach ehemaligen RAF-Mitgliedern', 'Summary': 'Das Landeskriminalamt lässt in der EU nach drei Ex-Mitgliedern der Roten Armee Fraktion (RAF) fahnden. Sie sollen an mehreren Morden beteiligt gewesen sein.', 'Publication': '2020-05-01T16:45:48+02:00', 'Ressort': 'Gesellschaft', 'URL': 'https://www.zeit.de/gesellschaft/zeitgeschehen/2020-05/raf-mitglieder-landeskriminalamt-fahndung-europa'}\n",
      "{'Title': 'Der perfekte Plan', 'Summary': 'Die DFL hat ihren Hygieneplan nochmals nachgebessert, Experten stimmen mittlerweile zu. Dennoch bleiben unwägbare Risiken. Die wichtigsten Fragen im Check', 'Publication': '2020-05-01T11:44:20+02:00', 'Ressort': 'Sport', 'URL': 'https://www.zeit.de/sport/2020-04/fussball-bundesliga-corona-massnahmen-dfl-geisterspiele-risiken'}\n",
      "{'Title': '\"Wir wollen die Straßen mit unseren Inhalten fluten\"', 'Summary': 'Die Berliner linke Szene hat zu dezentralen Aktionen am Tag der Arbeit aufgerufen. Der Innensenator will \"auch konsequent vorgehen\". Deeskalation könnte schwierig sein.', 'Publication': '2020-05-01T11:57:16+02:00', 'Ressort': 'Politik', 'URL': 'https://www.zeit.de/politik/deutschland/2020-05/tag-der-arbeit-berlin-erster-mai-linke-proteste'}\n",
      "{'Title': 'Totschweigen funktioniert nicht mehr', 'Summary': 'Die sexuellen Belästigungsvorwürfe gegen Joe Biden stürzen dessen Unterstützer in ein Dilemma. Es geht auch um die Glaubwürdigkeit der #MeToo-Bewegung.', 'Publication': '2020-05-01T07:58:52+02:00', 'Ressort': 'Politik', 'URL': 'https://www.zeit.de/politik/ausland/2020-05/usa-joe-biden-vorwuerfe-uebergriffe-us-demokraten-metoo'}\n",
      "{'Title': '\"Ich vermisse die Leute auf der Straße\"', 'Summary': 'Jahrelang lebte er als Obdachloser, dann bekam Jens Viert eine Wohnung. Es sollte seine Rückkehr in die Normalität sein. Aber in Zeiten des Virus gibt es die nicht mehr.', 'Publication': '2020-05-01T17:27:40+02:00', 'Ressort': 'Hamburg', 'URL': 'https://www.zeit.de/hamburg/2020-04/obdachlosigkeit-coronavirus-not-social-distancing-leere-strassen'}\n",
      "{'Title': 'Überall Viren?', 'Summary': 'Mit dem wachsenden Wissen über die Covid-19-Pandemie tauchen neue  Fragen auf – epidemiologische, medizinische und soziale. Ein Update', 'Publication': '2020-04-29T07:27:43+02:00', 'Ressort': 'Wissen', 'URL': 'https://www.zeit.de/2020/19/covid-19-risikogruppe-spaetfolgen-nothilfe-coronavirus'}\n",
      "{'Title': 'Ein System wankt', 'Summary': 'Die Schulen in Deutschland öffnen wieder. Und schon stellen sich ungewohnte Fragen: Wann brauchen Schüler überhaupt einen Lehrer? Und wozu genau?', 'Publication': '2020-04-29T14:29:54+02:00', 'Ressort': 'Gesellschaft', 'URL': 'https://www.zeit.de/2020/19/schuloeffnungen-digitalunterricht-corona-massnahmen-social-distancing'}\n",
      "{'Title': '\"Die kaufen uns die Hütte leer\"', 'Summary': 'Alle brauchen Masken, Jörg Zimmer stellt sie in Bergedorf her. Das freut die Stadt und schafft Arbeitsplätze für Flüchtlinge.', 'Publication': '2020-05-01T11:50:18+02:00', 'Ressort': 'Hamburg', 'URL': 'https://www.zeit.de/2020/19/gesichtsmasken-schneiderei-arbeitsplaetze-fluechtlinge-coronavirus'}\n",
      "{'Title': 'Bis hinter den Horizont', 'Summary': 'Allein durchquerte Felicity Aston den Kontinent Antarktika – als erster Mensch überhaupt ohne technische Hilfsmittel. Was die Engländerin in Krisenmomenten motivierte: Männer, die einer Frau so etwas nie zugetraut hätten. Folge 15 der ZEIT-Serie über Pionierinnen', 'Publication': '2020-05-01T11:33:48+02:00', 'Ressort': 'Entdecken', 'URL': 'https://www.zeit.de/2020/19/felicity-aston-durchquerung-antarktika-pionierinnen'}\n",
      "{'Title': 'Gregor Gysi soll außenpolitischer Sprecher der Linksfraktion werden', 'Summary': 'Steht der 72-jährige frühere Linke-Fraktionschef vor einem kleinen politischen Comeback? Laut eines Agenturberichts soll er den Posten von Stefan Liebich übernehmen.', 'Publication': '2020-05-01T10:28:48+02:00', 'Ressort': 'Politik', 'URL': 'https://www.zeit.de/politik/deutschland/2020-05/linke-gregor-gysi-comeback-aussenpolitik-fraktionsvorsitzende'}\n",
      "{'Title': 'Anwälte der Nebenkläger beklagen \"Versagen des Rechtsstaats\"', 'Summary': 'Mit drastischen Worten kritisieren die Juristen das schriftliche Urteil zum NSU-Prozess. Der Rechtsstaat habe die Opfer im Stich gelassen, zu vieles \"totgeschwiegen\".', 'Publication': '2020-05-01T13:02:30+02:00', 'Ressort': 'Gesellschaft', 'URL': 'https://www.zeit.de/gesellschaft/zeitgeschehen/2020-05/nsu-prozess-nebenklaeger-zschaepe-oberlandesgericht'}\n",
      "{'Title': '\"Nutzt diese Energie, legt die Städte lahm!\"', 'Summary': 'Sie gilt als Ikone des zivilen Ungehorsams: Lisa Fithian über Widerstand in Zeiten von Ausgangssperren,  Telefonterror als Taktik und nette Polizisten.', 'Publication': '2020-05-01T09:07:16+02:00', 'Ressort': 'Gesellschaft', 'URL': 'https://www.zeit.de/gesellschaft/2020-04/lisa-fithian-usa-coronavirus-lockdown-demonstrationen-ausgangsbeschraenkungen-aktivistin'}\n",
      "{'Title': 'Vapiano steht zum Verkauf', 'Summary': 'Das schon vor der Corona-Krise angeschlagene Unternehmen ist seit Anfang April zahlungsunfähig. Nun soll Vapiano verkauft werden.', 'Publication': '2020-04-30T18:39:38+02:00', 'Ressort': 'Wirtschaft', 'URL': 'https://www.zeit.de/wirtschaft/unternehmen/2020-04/restaurantkette-vapiano-insolvenz-verkauf'}\n",
      "{'Title': 'Der Hausfrauenkomplex', 'Summary': 'Weibliche Opferbereitschaft wird in der Krise zur gefeierten Tugend. Auch Männer kümmern sich jetzt zu Hause. Mehr als Demut auf Zeit ist jedoch nicht zu erwarten.', 'Publication': '2020-04-30T20:11:26+02:00', 'Ressort': 'Kultur', 'URL': 'https://www.zeit.de/kultur/2020-04/geschlechterrollen-hausfrauen-vaeter-kinderbetreuung-arbeit-coronavirus'}\n",
      "{'Title': 'BGH weist Samplingstreit an Vorinstanz zurück', 'Summary': 'Der Rechtsstreit zwischen Musikproduzent Moses Pelham und Kraftwerk geht erneut an das Oberlandesgericht Hamburg. Der BGH positionierte sich jedoch – im Sinne Pelhams.', 'Publication': '2020-04-30T11:52:34+02:00', 'Ressort': 'Kultur', 'URL': 'https://www.zeit.de/kultur/musik/2020-04/urheberschutz-kraftwerk-pelham-zwei-sekunden-beat-bgh-urteil'}\n",
      "{'Title': 'Bund und Länder geben Lockerungen bekannt', 'Summary': 'Spielplätze, Zoos und Museen können wieder öffnen. Über eine Strategie für Schulen, Kitas und Sporteinrichtungen soll erst kommende Woche entschieden werden.', 'Publication': '2020-04-30T22:52:11+02:00', 'Ressort': 'Politik', 'URL': 'https://www.zeit.de/video/2020-04/6153255042001/coronavirus-pandemie-bund-und-laender-geben-lockerungen-bekannt'}\n",
      "{'Title': 'Wer rettet die Festivals?', 'Summary': 'Wegen des Coronavirus sind fast alle Musik-Festivals diesen Sommer abgesagt. Gerade kleine Festivals könnten 2021 nicht zurückkehren. \"represent\" über Rettungsversuche', 'Publication': '2020-04-29T17:59:35+02:00', 'Ressort': 'Campus', 'URL': 'https://www.zeit.de/video/2020-04/6152915304001/festivalsommer-wer-rettet-die-festivals'}\n",
      "{'Title': 'Ist das der Corona-Effekt?', 'Summary': 'Bis Anfang April sind mehr Menschen gestorben als sonst, vor allem unter den älteren Personen. Das sagen die aktuellen Sterbefalldaten für 2020.', 'Publication': '2020-04-30T22:20:40+02:00', 'Ressort': 'Wissen', 'URL': 'https://www.zeit.de/wissen/gesundheit/2020-04/statistisches-bundesamt-coronavirus-tote-sonderauswertung'}\n",
      "{'Title': 'Die wichtigsten Corona-Nachrichten vom Donnerstag', 'Summary': 'Spielplätze können wieder öffnen, Museen und Kirchen ebenfalls. Die Kontaktbeschränkungen werden jedoch abermals verlängert: Die wichtigsten News zu Covid-19', 'Publication': '2020-04-30T18:16:31+02:00', 'Ressort': 'Wissen', 'URL': 'https://www.zeit.de/wissen/gesundheit/2020-04/covid-19-aktuell-coronavirus-nachrichten-am-donnerstag-30-april-2020'}\n",
      "{'Title': 'Kinder vermutlich genauso infektiös wie Erwachsene', 'Summary': 'Virologe Christian Drosten warnt vor einer schnellen Kitaöffnung. Die Zahl der Viren in Atemwegen sei laut einer Veröffentlichung bei verschiedenen Altersgruppen gleich.', 'Publication': '2020-04-30T13:39:45+02:00', 'Ressort': 'Wissen', 'URL': 'https://www.zeit.de/wissen/gesundheit/2020-04/charite-veroeffentlichung-coronavirus-kinder-infektionsrisiko-kita-schuloeffnungen'}\n",
      "{'Title': 'Keine App mehr, uns alle zu tracken', 'Summary': 'Die Corona-App der Bundesregierung soll nun doch dezentral funktionieren. Gut so. Nun sollte man nicht den Fehler machen, sie als Allheilmittel zu verkaufen.', 'Publication': '2020-04-28T11:46:04+02:00', 'Ressort': 'Digital', 'URL': 'https://www.zeit.de/digital/datenschutz/2020-04/datenschutz-corona-app-bundesregierung-probleme'}\n",
      "{'Title': '\"Anno 1800\" ist bestes deutsches Computerspiel', 'Summary': 'Das Aufbauspiel \"Anno 1800\" wurde beim Deutschen Computerspielpreis mit dem Hauptpreis geehrt. Wegen der Corona-Krise wurden die Preise auf einer Digital-Gala vergeben.', 'Publication': '2020-04-28T00:06:15+02:00', 'Ressort': 'Digital', 'URL': 'https://www.zeit.de/digital/games/2020-04/computerspielpreis-2020-anno-1800-ubisoft'}\n",
      "{'Title': '\\n\"Ich würde im Moment lieber an der Kasse arbeiten als in der Kita\"\\n', 'Summary': 'Die Kitas erweitern die Notbetreuung. Erzieher müssen die Kinder trösten, kuscheln und wickeln – und werden selbst kaum geschützt. Das ist für alle gefährlich.', 'Publication': '2020-04-30T15:59:58+02:00', 'Ressort': None, 'URL': 'https://www.zeit.de/arbeit/2020-04/kitas-hygienevorgaben-erzieher-coronavirus-infektionsschutz'}\n",
      "{'Title': '\\nSchon wieder weg\\n', 'Summary': 'Nach nur sechs Monaten wechselt SAP seine Chefin aus. Weil sie eine Frau ist?', 'Publication': '2020-04-29T06:06:38+02:00', 'Ressort': None, 'URL': 'https://www.zeit.de/2020/19/jennifer-morgan-sap-fuehrungsposition-konzernstrategie-christian-klein'}\n",
      "{'Title': 'Willi kriegt seinen Stoff nicht', 'Summary': 'Die Corona-Krise trifft auch die Drogenszene: Während die einen gegen Einsamkeit und Angst ankiffen, zwingen Engpässe Suchtkranke in den unkontrollierten Entzug.', 'Publication': '2020-04-30T06:13:09+02:00', 'Ressort': 'Entdecken', 'URL': 'https://www.zeit.de/entdecken/2020-04/drogenhandel-coronavirus-abhaengigkeit-entzug-heroin'}\n",
      "{'Title': 'Sagt den Sommer endlich ab', 'Summary': 'Die weltweite Reisewarnung wird verlängert – bis Mitte Juni. Die Regierung hätte den Mut haben sollen, Sommerurlaub im Ausland ganz abzusagen. Zögern nützt niemandem.', 'Publication': '2020-04-29T13:09:55+02:00', 'Ressort': 'Entdecken', 'URL': 'https://www.zeit.de/entdecken/reisen/2020-04/reisewarnung-verlaengerung-sommerurlaub-auswaertiges-amt-bundesregierung'}\n",
      "{'Title': 'Mitarbeiter proben erstmals Abläufe am BER', 'Summary': 'Sicherheitskontrollen, Check-in, Gepäck: Beschäftigte des neuen Berliner Flughafens haben so getan, als würden sie verreisen. Nur der Airport-Bahnhof blieb verwaist.', 'Publication': '2020-04-30T16:37:11+02:00', 'Ressort': 'Mobilität', 'URL': 'https://www.zeit.de/wirtschaft/2020-04/flughafen-berlin-brandenburg-ber-probe-arbeitsablaeufe'}\n",
      "{'Title': 'Hunderttausende VW-Kunden stimmen Vergleich zu', 'Summary': 'Die Verbraucherzentralen nehmen die Musterfeststellungsklage gegen Volkswagen zurück. 235.000 Kunden haben sich mit dem Konzern auf Entschädigungszahlungen geeinigt.', 'Publication': '2020-04-30T13:57:56+02:00', 'Ressort': 'Mobilität', 'URL': 'https://www.zeit.de/mobilitaet/2020-04/abgasskandal-vw-diesel-vergleich-entschaedigungszahlungen'}\n",
      "{'Title': '340 freie Beatmungsbetten in Hamburg', 'Summary': 'Gut 4.800 Menschen infiziert, mehr als 150 gestorben: die Lage in Hamburg im laufend aktualisierten Überblick', 'Publication': '2020-04-30T14:00:23+02:00', 'Ressort': 'Hamburg', 'URL': 'https://www.zeit.de/hamburg/2020-03/coronavirus-hamburg-schulschliessungen-massnahmen-veranstaltungen-faq'}\n",
      "{'Title': 'Jetzt erst recht', 'Summary': 'In den Koalitionsverhandlungen verbindet Sozialdemokraten und Grüne eine gemeinsame Haltung: Was vor der Krise richtig war, ist nun umso richtiger.', 'Publication': '2020-04-30T10:33:21+02:00', 'Ressort': 'Hamburg', 'URL': 'https://www.zeit.de/2020/19/koalitionsverhandlungen-hamburg-sozialdemokraten-gruene-coronavirus-krise'}\n",
      "{'Title': 'Boxer Felix Sturm soll wegen Steuerhinterziehung drei Jahre in Haft', 'Summary': 'Zwischen 2008 und 2013 hat Sturm dem Fiskus mindestens eine Million Euro vorenthalten und muss dafür in Haft. Auch wegen Dopings und Körperverletzung wurde er verurteilt.', 'Publication': '2020-04-30T17:57:26+02:00', 'Ressort': 'Sport', 'URL': 'https://www.zeit.de/sport/2020-04/felix-sturm-steuerhinterziehung-haftstrafe-landgericht-koeln'}\n",
      "{'Title': 'Weg von der Bildfläche', 'Summary': 'Auch der Frauenfußball hat mit der Krise zu kämpfen. Während die Nationalmannschaft auf Highlights lange warten muss, zeigen sich die Bundesligisten zuversichtlich.', 'Publication': '2020-04-28T14:13:32+02:00', 'Ressort': 'Sport', 'URL': 'https://www.zeit.de/sport/2020-04/fussball-frauen-corona-krise'}\n",
      "{'Title': 'Sommermärchen gekauft, na und?', 'Summary': 'Der Sommermärchen-Prozess wird eingestellt. Zwar spricht vieles dafür, dass die WM 2006 gekauft war, aber die wirklich bösen Buben standen eh nicht vor Gericht.', 'Publication': '2020-04-28T05:48:21+02:00', 'Ressort': 'Sport', 'URL': 'https://www.zeit.de/sport/2020-04/dfb-sommermaerchen-prozess-schweiz-fifa-deutschland-fussball-wm-affaere-2006'}\n"
     ]
    }
   ],
   "source": [
    "for d in lst:\n",
    "    print(d)\n",
    "    with open('./crawledarticles.csv', \"a\", newline=\"\", encoding=\"utf-8\") as f:\n",
    "        writer = csv.writer(f, delimiter=\";\")\n",
    "        writer.writerow([d['Title'], d['Summary'], d['Publication'], d['Ressort'], d['URL']])\n",
    "        \n",
    "\n"
   ]
  },
  {
   "cell_type": "code",
   "execution_count": null,
   "metadata": {},
   "outputs": [],
   "source": []
  }
 ],
 "metadata": {
  "kernelspec": {
   "display_name": "Python 3",
   "language": "python",
   "name": "python3"
  },
  "language_info": {
   "codemirror_mode": {
    "name": "ipython",
    "version": 3
   },
   "file_extension": ".py",
   "mimetype": "text/x-python",
   "name": "python",
   "nbconvert_exporter": "python",
   "pygments_lexer": "ipython3",
   "version": "3.7.4"
  }
 },
 "nbformat": 4,
 "nbformat_minor": 2
}
